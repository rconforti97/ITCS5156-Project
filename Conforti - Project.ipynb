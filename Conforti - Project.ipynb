{
 "cells": [
  {
   "cell_type": "markdown",
   "metadata": {},
   "source": [
    "\n",
    "# MNIST Dataset and Handwriting Recognition\n",
    "\n",
    "### Rachel Conforti - ITCS 5156:  Applied Machine Learning "
   ]
  },
  {
   "cell_type": "markdown",
   "metadata": {},
   "source": [
    "# Goal \n",
    "The paper I am attempting to duplicate is Handwritten Digits Identification using Mnist Database Via Machine Learning Models. They used multiple types of models such as Support Vector Machine, Multilayer Perceptron, Decision Tree, Naïve Bayes, K-Nearest Neighbor, and Random Forest. I will attempt to use these models on the MNIST dataset as well and see if I can get a similar accuracy on them.\n",
    "\n",
    "\n",
    "# Agenda\n",
    "* Support Vector Machine\n",
    "* Multilayer Perceptron\n",
    "* Decision Tree\n",
    "* Naïve Bayes\n",
    "* K-Nearest Neighbor\n",
    "* Random Forest"
   ]
  },
  {
   "cell_type": "code",
   "execution_count": 52,
   "metadata": {},
   "outputs": [],
   "source": [
    "# Imports for the project\n",
    "\n",
    "import sklearn\n",
    "sklearn.__version__ # I am running 0.23.2 \n",
    "\n",
    "\n",
    "from sklearn import datasets, neighbors\n",
    "from sklearn import metrics\n",
    "from sklearn.metrics import accuracy_score\n",
    "from sklearn import datasets\n",
    "from sklearn.model_selection import train_test_split\n",
    "from sklearn import svm # so we can so the support vector machine \n",
    "import matplotlib.pyplot as plt # so we plot the confusion matrix \n",
    "\n",
    "\n",
    "# %matplotlib inline"
   ]
  },
  {
   "cell_type": "code",
   "execution_count": 53,
   "metadata": {},
   "outputs": [],
   "source": [
    "# loading in the dataset using the built in sklearn MNIST dataset. Using return_X_y it allows me to return \n",
    "# (data, target) instead of a Bunch object\n",
    "\n",
    "digits_dataset = datasets.load_digits()"
   ]
  },
  {
   "cell_type": "code",
   "execution_count": 54,
   "metadata": {},
   "outputs": [],
   "source": [
    "# Import\n",
    "\n",
    "# Training the data using train_test_split\n",
    "X = digits_dataset.data\n",
    "T= digits_dataset.target\n",
    "X_train, X_test, t_train, t_test = train_test_split(X, T, test_size=0.5, shuffle=False)"
   ]
  },
  {
   "cell_type": "markdown",
   "metadata": {},
   "source": [
    "# Support Vector Machine"
   ]
  },
  {
   "cell_type": "code",
   "execution_count": 111,
   "metadata": {},
   "outputs": [
    {
     "name": "stdout",
     "output_type": "stream",
     "text": [
      "Train Accuracy: 0.9988864142538976, Test Accuracy: 0.9610678531701891\n",
      "\n",
      "Classification report for classifier SVC():\n",
      "              precision    recall  f1-score   support\n",
      "\n",
      "           0       0.99      0.99      0.99        88\n",
      "           1       0.97      0.97      0.97        91\n",
      "           2       1.00      0.98      0.99        86\n",
      "           3       0.98      0.87      0.92        91\n",
      "           4       0.99      0.96      0.97        92\n",
      "           5       0.93      0.97      0.95        91\n",
      "           6       0.99      0.99      0.99        91\n",
      "           7       0.95      0.99      0.97        89\n",
      "           8       0.92      0.95      0.94        88\n",
      "           9       0.92      0.96      0.94        92\n",
      "\n",
      "    accuracy                           0.96       899\n",
      "   macro avg       0.96      0.96      0.96       899\n",
      "weighted avg       0.96      0.96      0.96       899\n",
      "\n",
      "\n"
     ]
    },
    {
     "data": {
      "image/png": "[encoded data removed]",
      "text/plain": [
       "<Figure size 1080x216 with 8 Axes>"
      ]
     },
     "metadata": {
      "needs_background": "light"
     },
     "output_type": "display_data"
    }
   ],
   "source": [
    "svm_classifier = svm.SVC()\n",
    "svm_classifier.fit(X_train, y_train)\n",
    "\n",
    "# Accuracy \n",
    "train_score = svm_classifier.score(X_train, t_train)\n",
    "test_score = svm_classifier.score(X_test, t_test)\n",
    "print(\"Train Accuracy: {}, Test Accuracy: {}\".format(train_score, test_score))\n",
    "\n",
    "accuracy = svm_classifier.predict(X_test)\n",
    "\n",
    "# Print out of numbers \n",
    "k = 8\n",
    "_, axes = plt.subplots(1, k, figsize=(15,3))\n",
    "for ax, image, label, pred in zip(axes, X_test[:k], t_test[:k], accuracy):\n",
    "    \n",
    "    ax.set_axis_off()\n",
    "    ax.imshow(image.reshape((8,8)), cmap=plt.cm.gray_r, interpolation='nearest')\n",
    "    ax.set_title('Digit {}({})'.format(label, pred))\n",
    "\n",
    "# Report \n",
    "print(\"\\nClassification report for classifier %s:\\n%s\\n\" % (svm_classifier, metrics.classification_report(t_test, accuracy)))"
   ]
  },
  {
   "cell_type": "markdown",
   "metadata": {},
   "source": [
    "# Multilayer Perceptron"
   ]
  },
  {
   "cell_type": "code",
   "execution_count": null,
   "metadata": {},
   "outputs": [],
   "source": []
  },
  {
   "cell_type": "markdown",
   "metadata": {},
   "source": [
    "# Decision Tree"
   ]
  },
  {
   "cell_type": "code",
   "execution_count": null,
   "metadata": {},
   "outputs": [],
   "source": []
  },
  {
   "cell_type": "markdown",
   "metadata": {},
   "source": [
    "# Naïve Bayes"
   ]
  },
  {
   "cell_type": "code",
   "execution_count": null,
   "metadata": {},
   "outputs": [],
   "source": []
  },
  {
   "cell_type": "markdown",
   "metadata": {},
   "source": [
    "# K-Nearest Neighbor"
   ]
  },
  {
   "cell_type": "code",
   "execution_count": 117,
   "metadata": {},
   "outputs": [
    {
     "name": "stdout",
     "output_type": "stream",
     "text": [
      "Train Accuracy: 0.9888641425389755, Test Accuracy: 0.9555061179087876\n",
      "\n",
      "Classification report for classifier KNeighborsClassifier():\n",
      "              precision    recall  f1-score   support\n",
      "\n",
      "           0       0.99      1.00      0.99        88\n",
      "           1       0.95      0.98      0.96        91\n",
      "           2       0.98      0.93      0.95        86\n",
      "           3       0.89      0.90      0.90        91\n",
      "           4       1.00      0.95      0.97        92\n",
      "           5       0.96      0.98      0.97        91\n",
      "           6       0.99      1.00      0.99        91\n",
      "           7       0.95      1.00      0.97        89\n",
      "           8       0.95      0.90      0.92        88\n",
      "           9       0.91      0.92      0.92        92\n",
      "\n",
      "    accuracy                           0.96       899\n",
      "   macro avg       0.96      0.96      0.96       899\n",
      "weighted avg       0.96      0.96      0.96       899\n",
      "\n",
      "\n"
     ]
    },
    {
     "data": {
      "image/png": "[encoded data removed]",
      "text/plain": [
       "<Figure size 1080x216 with 8 Axes>"
      ]
     },
     "metadata": {
      "needs_background": "light"
     },
     "output_type": "display_data"
    }
   ],
   "source": [
    "# Create an KNN classifier using default setting\n",
    "knn = neighbors.KNeighborsClassifier()\n",
    "\n",
    "# Train with training data (input, X_train and target, t_train)\n",
    "knn.fit(X_train, t_train)\n",
    "\n",
    "# Accuracy \n",
    "train_score = knn.score(X_train, t_train)\n",
    "test_score = knn.score(X_test, t_test)\n",
    "print(\"Train Accuracy: {}, Test Accuracy: {}\".format(train_score, test_score))\n",
    "\n",
    "accuracy = knn.predict(X_test)\n",
    "\n",
    "# Print out of numbers \n",
    "k = 8\n",
    "_, axes = plt.subplots(1, k, figsize=(15,3))\n",
    "for ax, image, label, pred in zip(axes, X_test[:k], t_test[:k], accuracy):\n",
    "    \n",
    "    ax.set_axis_off()\n",
    "    ax.imshow(image.reshape((8,8)), cmap=plt.cm.gray_r, interpolation='nearest')\n",
    "    ax.set_title('Digit {}({})'.format(label, pred))\n",
    "\n",
    "# Report \n",
    "print(\"\\nClassification report for classifier %s:\\n%s\\n\" % (knn, metrics.classification_report(t_test, accuracy)))"
   ]
  },
  {
   "cell_type": "markdown",
   "metadata": {},
   "source": [
    "# Random Forest"
   ]
  },
  {
   "cell_type": "code",
   "execution_count": null,
   "metadata": {},
   "outputs": [],
   "source": []
  },
  {
   "cell_type": "markdown",
   "metadata": {},
   "source": [
    "# Confusion Matrix\n",
    "<!-- confusion matrix code  -->\n",
    "disp = metrics.plot_confusion_matrix(svm_classifier, X_test, t_test)\n",
    "disp.figure_.suptitle(\"Confusion Matrix\")\n",
    "plt.show()"
   ]
  }
 ],
 "metadata": {
  "kernelspec": {
   "display_name": "Python 3",
   "language": "python",
   "name": "python3"
  },
  "language_info": {
   "codemirror_mode": {
    "name": "ipython",
    "version": 3
   },
   "file_extension": ".py",
   "mimetype": "text/x-python",
   "name": "python",
   "nbconvert_exporter": "python",
   "pygments_lexer": "ipython3",
   "version": "3.8.5"
  }
 },
 "nbformat": 4,
 "nbformat_minor": 4
}
